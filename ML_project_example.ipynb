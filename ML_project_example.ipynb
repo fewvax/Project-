{
 "cells": [
  {
   "cell_type": "markdown",
   "metadata": {},
   "source": [
    "### This data was obtain from instrument methods that were optimzed so there are no outliers."
   ]
  },
  {
   "cell_type": "code",
   "execution_count": 520,
   "metadata": {},
   "outputs": [],
   "source": [
    "from sklearn.linear_model import LinearRegression, LogisticRegression\n",
    "from sklearn.preprocessing import OneHotEncoder \n",
    "from sklearn.model_selection import train_test_split\n",
    "from sklearn.metrics import precision_score, recall_score,precision_recall_curve\n",
    "import pandas as pd\n",
    "import numpy as np\n",
    "\n",
    "\n",
    "df = pd.read_csv(\"Linkage_Mono_data.csv\")\n",
    "feature_x1 = ['Glucose', 'Galactose', 'Fructose', 'Xylose', 'Arabinose',\n",
    "       'Fucose', 'Rhamnose', 'GlcA', 'GalA', 'GlcNAc', 'GalNAc', 'Mannose',\n",
    "       'Allose', 'Ribose', 'T-Glucose ', '4-Glucose ',\n",
    "       '3-Glucose/3-Galactose ', '2-Glucose ', '6-Glucose ', '2,4-Glucose ',\n",
    "       '3,4-Glucose ', '4,6-Glucose ', '2,4,6-Glucose ', '3,4,6-Glucose ',\n",
    "       '2,3,6-Glucose ', 'T-Galactose ', '4-Galactose ', '2-Galactose ',\n",
    "       '6-Galactose ', '3,6-Galactose ', '3,4-Galactose ', '4,6-Galactose ',\n",
    "       '2,4,6-Galactose ', '3,4,6-Galactose ', 'T-Fructose ', 'T-P-Xylose ',\n",
    "       '4-P-Xylose ', '2-Xylose ', '3,4-P-Xylose/3,5-Arabinose ',\n",
    "       '2,4-P-Xylose ', 'T-P-Arabinose ', 'T-F-Arabinose ', '5-F-Arabinose ',\n",
    "       '3-F-Arabinose ', '2-F-Arabinose ', '2,3-Arabinose ', '2,5-Arabinose ',\n",
    "       'T-Fucose ', 'T-Rhamnose ', '2-Rhamnose ', '4-Rhamnose', 'T-GlcA ',\n",
    "       'T-GalA ', 'T-Mannose ', '2-Mannose ', '4-Mannose ', '3-Mannose ',\n",
    "       '6-Mannose ', '3,6-Mannose ', '4,6-Mannose ', '3,4,6-Mannose ',\n",
    "       'X-Hexose ', '2,X,X-Hexose (I) ', '2,X,X-Hexose (II) ']\n",
    "feature_x2 = ['T-Glucose ', '4-Glucose ',\n",
    "       '3-Glucose/3-Galactose ', '2-Glucose ', '6-Glucose ', '2,4-Glucose ',\n",
    "       '3,4-Glucose ', '4,6-Glucose ', '2,4,6-Glucose ', '3,4,6-Glucose ',\n",
    "       '2,3,6-Glucose ', 'T-Galactose ', '4-Galactose ', '2-Galactose ',\n",
    "       '6-Galactose ', '3,6-Galactose ', '3,4-Galactose ', '4,6-Galactose ',\n",
    "       '2,4,6-Galactose ', '3,4,6-Galactose ', 'T-Fructose ', 'T-P-Xylose ',\n",
    "       '4-P-Xylose ', '2-Xylose ', '3,4-P-Xylose/3,5-Arabinose ',\n",
    "       '2,4-P-Xylose ', 'T-P-Arabinose ', 'T-F-Arabinose ', '5-F-Arabinose ',\n",
    "       '3-F-Arabinose ', '2-F-Arabinose ', '2,3-Arabinose ', '2,5-Arabinose ',\n",
    "       'T-Fucose ', 'T-Rhamnose ', '2-Rhamnose ', '4-Rhamnose', 'T-GlcA ',\n",
    "       'T-GalA ', 'T-Mannose ', '2-Mannose ', '4-Mannose ', '3-Mannose ',\n",
    "       '6-Mannose ', '3,6-Mannose ', '4,6-Mannose ', '3,4,6-Mannose ',\n",
    "       'X-Hexose ', '2,X,X-Hexose (I) ', '2,X,X-Hexose (II) ']\n",
    "feature_x3 = ['Glucose', 'Galactose', 'Fructose', 'Xylose', 'Arabinose',\n",
    "       'Fucose', 'Rhamnose', 'GlcA', 'GalA', 'GlcNAc', 'GalNAc', 'Mannose',\n",
    "       'Allose', 'Ribose']"
   ]
  },
  {
   "cell_type": "markdown",
   "metadata": {},
   "source": [
    "### This was to normalize data based on chemical insight"
   ]
  },
  {
   "cell_type": "code",
   "execution_count": 521,
   "metadata": {},
   "outputs": [],
   "source": [
    "count = 0\n",
    "for i in df.columns:\n",
    "    if i == 'Mono_starting mass (ng)':\n",
    "        count += 1\n",
    "        df['Linkage_starting mass (ng)'] = 4\n",
    "    if count == 1:\n",
    "        df[i] = df[i]/df['Linkage_starting mass (ng)'] *4\n",
    "    if i == 'Ribose':\n",
    "        count += 1"
   ]
  },
  {
   "cell_type": "markdown",
   "metadata": {},
   "source": [
    "###  Used as an initial training to test logisitic regression but the precision and recall can vary greatly"
   ]
  },
  {
   "cell_type": "code",
   "execution_count": 540,
   "metadata": {},
   "outputs": [
    {
     "name": "stdout",
     "output_type": "stream",
     "text": [
      "Precision: 0.7894736842105263\n",
      "Recall: 0.7894736842105263\n"
     ]
    }
   ],
   "source": [
    "lcassifier = LogisticRegression(multi_class= \"multinomial\", max_iter = 10000)\n",
    "y = df[\"Sample\"]\n",
    "x = df[feature_x1]\n",
    "x_train, x_test, y_train, y_test = train_test_split(x,y,test_size = 0.2)\n",
    "lcassifier.fit(np.array(x_train),y_train)\n",
    "pred = lcassifier.predict(np.array(x_test))\n",
    "# print(metrics.classification_report(y_test, pred, digits = 3))\n",
    "print(\"Precision:\",precision_score(y_test,np.array(pred),average='macro',zero_division=0))\n",
    "print(\"Recall:\",recall_score(y_test,np.array(pred),average='macro',zero_division=0))"
   ]
  },
  {
   "cell_type": "markdown",
   "metadata": {},
   "source": [
    "### Function used for logistic regression model using LOOCV. LOOCV is used because we only have 96 data points which wouldn't require large computational time. In addition, this also resolve the limitation of the data set since each data point only have 3 replicate experiments."
   ]
  },
  {
   "cell_type": "code",
   "execution_count": 498,
   "metadata": {},
   "outputs": [],
   "source": [
    "#function logistic_regression\n",
    "def log_regress(x_train, y_train, x_test):\n",
    "    lclassifier = LogisticRegression(multi_class= \"multinomial\", max_iter = 2000)\n",
    "    lclassifier.fit(np.array(x_train),y_train)\n",
    "    pred = lclassifier.predict(np.array(x_test).reshape(1,-1))\n",
    "    return pred\n",
    "def loocv_log(feature):\n",
    "    lst = []\n",
    "    for i, row in df.iterrows():\n",
    "        x_train = df[feature].drop([i])\n",
    "        y_train = df[\"Sample\"].drop([i])\n",
    "        x_test = row[feature]\n",
    "        lst.append(log_regress(x_train,y_train,x_test)[0])\n",
    "    return lst"
   ]
  },
  {
   "cell_type": "markdown",
   "metadata": {},
   "source": [
    "### LOOCV to test the 3 feature. This was done to see if feasture set 2 would be sufficiant prediction. This means we would reduce our instrumental analysis needed for future development of the model."
   ]
  },
  {
   "cell_type": "code",
   "execution_count": 532,
   "metadata": {},
   "outputs": [
    {
     "name": "stdout",
     "output_type": "stream",
     "text": [
      "Precision: 0.9493087557603688\n",
      "Recall: 0.913978494623656\n"
     ]
    }
   ],
   "source": [
    "\n",
    "lst_1x = loocv_log(feature_x1)\n",
    "# print(metrics.classification_report(df[\"Sample\"], np.array(lst_1x), digits = 3))\n",
    "print(\"Precision:\",precision_score(df[\"Sample\"],np.array(lst_1x),average='macro',zero_division=0))\n",
    "print(\"Recall:\",recall_score(df[\"Sample\"],np.array(lst_1x),average='macro',zero_division=0))"
   ]
  },
  {
   "cell_type": "code",
   "execution_count": 531,
   "metadata": {},
   "outputs": [
    {
     "name": "stdout",
     "output_type": "stream",
     "text": [
      "Precision: 0.957373271889401\n",
      "Recall: 0.924731182795699\n"
     ]
    }
   ],
   "source": [
    "#loocv for feature set 2\n",
    "lst_2x = loocv_log(feature_x2)\n",
    "# print(metrics.classification_report(df[\"Sample\"], np.array(lst_2x), digits = 3))\n",
    "print(\"Precision:\",precision_score(df[\"Sample\"],np.array(lst_2x),average='macro',zero_division=0))\n",
    "print(\"Recall:\",recall_score(df[\"Sample\"],np.array(lst_2x),average='macro',zero_division=0))"
   ]
  },
  {
   "cell_type": "code",
   "execution_count": 530,
   "metadata": {},
   "outputs": [
    {
     "name": "stdout",
     "output_type": "stream",
     "text": [
      "Precision: 0.003795066413662239\n",
      "Recall: 0.03225806451612903\n"
     ]
    }
   ],
   "source": [
    "#loocv for feature set 3\n",
    "lst_3x = loocv_log(feature_x3)\n",
    "# print(metrics.classification_report(df[\"Sample\"], np.array(lst_3x), digits = 3))\n",
    "print(\"Precision:\",precision_score(df[\"Sample\"],np.array(lst_3x),average='macro',zero_division=0))\n",
    "print(\"Recall:\",recall_score(df[\"Sample\"],np.array(lst_3x),average='macro',zero_division=0))"
   ]
  },
  {
   "cell_type": "markdown",
   "metadata": {},
   "source": [
    "### Repeated the same procress for linear regression."
   ]
  },
  {
   "cell_type": "code",
   "execution_count": 543,
   "metadata": {},
   "outputs": [],
   "source": [
    "#initial training for linear regression using 80/20 split\n",
    "cassifier = LinearRegression()\n",
    "encode = OneHotEncoder()\n",
    "encode.fit(np.array(df['Sample']).reshape(-1,1))\n",
    "encode.categories\n",
    "df2 = pd.DataFrame(encode.transform(np.array(df['Sample']).reshape(-1,1)).toarray())\n",
    "final_df = pd.concat([df2,df[feature_x2]], axis = 1)\n",
    "test_df = pd.concat([df2,df3[feature_x2]], axis =1)\n",
    "y = df['Mono_starting mass (ng)']\n",
    "x = final_df\n",
    "x_train, x_test, y_train, y_test = train_test_split(x,y,test_size = 0.2)\n",
    "cassifier.fit(np.array(x_train),y_train)\n",
    "pred = cassifier.predict(np.array(x_test))\n",
    "# print(pred)\n",
    "# print(metrics.classification_report(y_test, pred, digits = 3))\n",
    "# print(\"Precision:\",precision_score(y_test,np.array(pred),average='macro',zero_division=0))\n",
    "# print(\"Recall:\",recall_score(y_test,np.array(pred),average='macro',zero_division=0))"
   ]
  },
  {
   "cell_type": "code",
   "execution_count": 499,
   "metadata": {},
   "outputs": [],
   "source": [
    "def lin_regress(x_train, y_train, x_test):\n",
    "    cassifier = LinearRegression()\n",
    "    cassifier.fit(np.array(x_train),y_train)\n",
    "    pred = cassifier.predict(np.array(x_test).reshape(1,-1))\n",
    "    return pred\n",
    "def loocv_lin(feature):\n",
    "    lst = []\n",
    "    encode = OneHotEncoder()\n",
    "    encode.fit(np.array(df['Sample']).reshape(-1,1))\n",
    "    df_encode = pd.DataFrame(encode.transform(np.array(df['Sample']).reshape(-1,1)).toarray())\n",
    "    final_df = pd.concat([df_encode,df[feature]], axis = 1)\n",
    "    for i, row in final_df.iterrows():\n",
    "        x_train = final_df.drop([i])\n",
    "        y_train = df[\"Mono_starting mass (ng)\"].drop([i])\n",
    "        x_test = row\n",
    "        lst.append(lin_regress(x_train,y_train,x_test)[0])\n",
    "    return lst"
   ]
  },
  {
   "cell_type": "code",
   "execution_count": 527,
   "metadata": {},
   "outputs": [],
   "source": [
    "lst_4x = loocv_lin(feature_x1)\n",
    "# print(metrics.classification_report(df[\"Mono_starting mass (ng)\"], np.array(lst_4x), digits = 3))\n",
    "# print(\"Precision:\",precision_score(df[\"Mono_starting mass (ng)\"],np.array(lst_4x),average='macro',zero_division=0))\n",
    "# print(\"Recall:\",recall_score(df[\"Mono_starting mass (ng)\"],np.array(lst_4x),average='macro',zero_division=0))"
   ]
  },
  {
   "cell_type": "code",
   "execution_count": 528,
   "metadata": {},
   "outputs": [],
   "source": [
    "lst_5x = loocv_lin(feature_x2)\n",
    "# print(metrics.classification_report(df[\"Mono_starting mass (ng)\"], np.array(lst_5x), digits = 3))\n",
    "# print(\"Precision:\",precision_score(df[\"Mono_starting mass (ng)\"],np.array(lst_5x),average='macro',zero_division=0))\n",
    "# print(\"Recall:\",recall_score(df[\"Mono_starting mass (ng)\"],np.array(lst_5x),average='macro',zero_division=0))"
   ]
  },
  {
   "cell_type": "code",
   "execution_count": 529,
   "metadata": {},
   "outputs": [],
   "source": [
    "lst_6x = loocv_lin(feature_x3)\n",
    "# print(metrics.classification_report(df[\"Mono_starting mass (ng)\"], np.array(lst_6x), digits = 3))\n",
    "# print(\"Precision:\",precision_score(df[\"Mono_starting mass (ng)\"],np.array(lst_6x),average='macro',zero_division=0))\n",
    "# print(\"Recall:\",recall_score(df[\"Mono_starting mass (ng)\"],np.array(lst_6x),average='macro',zero_division=0))"
   ]
  }
 ],
 "metadata": {
  "kernelspec": {
   "display_name": "Python 3",
   "language": "python",
   "name": "python3"
  },
  "language_info": {
   "codemirror_mode": {
    "name": "ipython",
    "version": 3
   },
   "file_extension": ".py",
   "mimetype": "text/x-python",
   "name": "python",
   "nbconvert_exporter": "python",
   "pygments_lexer": "ipython3",
   "version": "3.7.6"
  }
 },
 "nbformat": 4,
 "nbformat_minor": 4
}
